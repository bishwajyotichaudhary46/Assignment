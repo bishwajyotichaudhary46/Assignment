{
 "cells": [
  {
   "cell_type": "markdown",
   "id": "7668a920",
   "metadata": {},
   "source": [
    "# 1. Write a Python program to reverse a string without using any built-in string reversal functions."
   ]
  },
  {
   "cell_type": "code",
   "execution_count": 2,
   "id": "f52a0e95",
   "metadata": {},
   "outputs": [
    {
     "data": {
      "text/plain": [
       "'lla olleh'"
      ]
     },
     "execution_count": 2,
     "metadata": {},
     "output_type": "execute_result"
    }
   ],
   "source": [
    "string = \"hello all\"\n",
    "l = len(string)\n",
    "rev = \"\"\n",
    "while l > 0:\n",
    "    rev  = rev + string[l-1:l]\n",
    "    l = l - 1\n",
    "rev"
   ]
  },
  {
   "cell_type": "markdown",
   "id": "ba947a9b",
   "metadata": {},
   "source": [
    "# 2. Implement a function to check if a given string is a palindrome."
   ]
  },
  {
   "cell_type": "code",
   "execution_count": 4,
   "id": "bccdd07d",
   "metadata": {},
   "outputs": [],
   "source": [
    "def check_palindrome(string):\n",
    "    string = string.lower()\n",
    "    l = len(string)\n",
    "    rev = \"\"\n",
    "    while l > 0:\n",
    "        rev  = rev + string[l-1:l]\n",
    "        l = l - 1\n",
    "    if rev == string:\n",
    "        return \"String is Palindrome\"\n",
    "    else:\n",
    "        return \"String is Not Palindrome\""
   ]
  },
  {
   "cell_type": "code",
   "execution_count": 5,
   "id": "df80d702",
   "metadata": {},
   "outputs": [
    {
     "data": {
      "text/plain": [
       "'String is Palindrome'"
      ]
     },
     "execution_count": 5,
     "metadata": {},
     "output_type": "execute_result"
    }
   ],
   "source": [
    "check_palindrome(\"level\")"
   ]
  },
  {
   "cell_type": "code",
   "execution_count": 6,
   "id": "d31d32ab",
   "metadata": {},
   "outputs": [
    {
     "data": {
      "text/plain": [
       "'String is Not Palindrome'"
      ]
     },
     "execution_count": 6,
     "metadata": {},
     "output_type": "execute_result"
    }
   ],
   "source": [
    "check_palindrome(\"Bishwa\")"
   ]
  },
  {
   "cell_type": "markdown",
   "id": "6797ec8a",
   "metadata": {},
   "source": [
    "# 3. Write a program to find the largest element in a given list."
   ]
  },
  {
   "cell_type": "code",
   "execution_count": 9,
   "id": "e1ccd033",
   "metadata": {},
   "outputs": [],
   "source": [
    "def find_max(lst):\n",
    "    max = lst[0]\n",
    "    for i in lst:\n",
    "        if max < i:\n",
    "            max = i\n",
    "    return f\"The largest element in list is {max}\"\n",
    "        "
   ]
  },
  {
   "cell_type": "code",
   "execution_count": 10,
   "id": "b3fb28e6",
   "metadata": {},
   "outputs": [
    {
     "data": {
      "text/plain": [
       "'The largest element in list is 76'"
      ]
     },
     "execution_count": 10,
     "metadata": {},
     "output_type": "execute_result"
    }
   ],
   "source": [
    "find_max([3,56,23,76,0,1])"
   ]
  },
  {
   "cell_type": "markdown",
   "id": "ce2d0b19",
   "metadata": {},
   "source": [
    "# 4. Implement a function to count the occurrence of each element in a list"
   ]
  },
  {
   "cell_type": "code",
   "execution_count": 17,
   "id": "415b6439",
   "metadata": {},
   "outputs": [],
   "source": [
    "def find_occurance(lst):\n",
    "    occurance = {}\n",
    "    for i in lst:\n",
    "        if i in occurance.keys():\n",
    "            occurance[i] += 1\n",
    "        else:\n",
    "            occurance[i] = 1\n",
    "    return occurance\n",
    "        \n",
    "        "
   ]
  },
  {
   "cell_type": "code",
   "execution_count": 19,
   "id": "303bbce5",
   "metadata": {},
   "outputs": [
    {
     "data": {
      "text/plain": [
       "{2: 1, 3: 2, 5: 2, 6: 1, 4: 1}"
      ]
     },
     "execution_count": 19,
     "metadata": {},
     "output_type": "execute_result"
    }
   ],
   "source": [
    "lst = [2,3,5,6,3,5,4]\n",
    "find_occurance(lst)"
   ]
  },
  {
   "cell_type": "markdown",
   "id": "d3d68acb",
   "metadata": {},
   "source": [
    "# 5. Write a Python program to find the second largest number in a list."
   ]
  },
  {
   "cell_type": "code",
   "execution_count": 27,
   "id": "3a2e8e5b",
   "metadata": {},
   "outputs": [],
   "source": [
    "def find_second_largest(lst):\n",
    "    large = lst[0]\n",
    "    second_large = lst[0]\n",
    "    for i in lst:\n",
    "        if i > large:\n",
    "            second_large = large\n",
    "            large = i\n",
    "    return f\"The second largest elements in lst is {second_large}\"\n",
    "            \n",
    "            \n",
    "    "
   ]
  },
  {
   "cell_type": "code",
   "execution_count": 28,
   "id": "5291f4a0",
   "metadata": {},
   "outputs": [
    {
     "data": {
      "text/plain": [
       "'The second largest elements in lst is 35'"
      ]
     },
     "execution_count": 28,
     "metadata": {},
     "output_type": "execute_result"
    }
   ],
   "source": [
    "find_second_largest([2,35,1,3,46,7,9])"
   ]
  },
  {
   "cell_type": "markdown",
   "id": "5c4079df",
   "metadata": {},
   "source": [
    "# 6. Implement a function to remove duplicate elements from a list."
   ]
  },
  {
   "cell_type": "code",
   "execution_count": 31,
   "id": "2560d1ee",
   "metadata": {},
   "outputs": [],
   "source": [
    "def remove_duplicate(lst):\n",
    "    for i,val in enumerate(lst):\n",
    "        if val in lst[:i]:\n",
    "            lst.remove(val)\n",
    "    return lst "
   ]
  },
  {
   "cell_type": "code",
   "execution_count": 33,
   "id": "063897bd",
   "metadata": {},
   "outputs": [
    {
     "data": {
      "text/plain": [
       "[4, 2, 5, 1, 3]"
      ]
     },
     "execution_count": 33,
     "metadata": {},
     "output_type": "execute_result"
    }
   ],
   "source": [
    "remove_duplicate([2,3,4,2,5,3,1,3])"
   ]
  },
  {
   "cell_type": "markdown",
   "id": "9f48a98a",
   "metadata": {},
   "source": [
    "# 7. Write a program to calculate the factorial of a given number."
   ]
  },
  {
   "cell_type": "code",
   "execution_count": 36,
   "id": "f7d53ebc",
   "metadata": {},
   "outputs": [],
   "source": [
    "def cal_factorial(num):\n",
    "    if num==1 or num== 0:\n",
    "        return 1\n",
    "    else:\n",
    "        return num*cal_factorial(num-1)"
   ]
  },
  {
   "cell_type": "code",
   "execution_count": 37,
   "id": "ea7f24a7",
   "metadata": {},
   "outputs": [
    {
     "data": {
      "text/plain": [
       "120"
      ]
     },
     "execution_count": 37,
     "metadata": {},
     "output_type": "execute_result"
    }
   ],
   "source": [
    "cal_factorial(5)"
   ]
  },
  {
   "cell_type": "code",
   "execution_count": 38,
   "id": "06c1f5df",
   "metadata": {},
   "outputs": [
    {
     "data": {
      "text/plain": [
       "1"
      ]
     },
     "execution_count": 38,
     "metadata": {},
     "output_type": "execute_result"
    }
   ],
   "source": [
    "cal_factorial(0)"
   ]
  },
  {
   "cell_type": "code",
   "execution_count": 39,
   "id": "23a13ecc",
   "metadata": {},
   "outputs": [
    {
     "data": {
      "text/plain": [
       "6"
      ]
     },
     "execution_count": 39,
     "metadata": {},
     "output_type": "execute_result"
    }
   ],
   "source": [
    "cal_factorial(3)"
   ]
  },
  {
   "cell_type": "markdown",
   "id": "47cf9151",
   "metadata": {},
   "source": [
    "# 8. Implement a function to check if a given number is prime.\n"
   ]
  },
  {
   "cell_type": "code",
   "execution_count": 44,
   "id": "adc229ce",
   "metadata": {},
   "outputs": [],
   "source": [
    "def check_prime(num):\n",
    "    count = 0\n",
    "    for i in range(1,num+1):\n",
    "        if num%i == 0:\n",
    "            count += 1\n",
    "            \n",
    "    if count == 2:\n",
    "        return f\"The given number {num} is Prime\"\n",
    "    else:\n",
    "        return f\"The given number {num} is not Prime\"\n",
    "        "
   ]
  },
  {
   "cell_type": "code",
   "execution_count": 45,
   "id": "961dc955",
   "metadata": {},
   "outputs": [
    {
     "data": {
      "text/plain": [
       "'The given number 5 is Prime'"
      ]
     },
     "execution_count": 45,
     "metadata": {},
     "output_type": "execute_result"
    }
   ],
   "source": [
    "check_prime(5)"
   ]
  },
  {
   "cell_type": "code",
   "execution_count": 46,
   "id": "9b864573",
   "metadata": {},
   "outputs": [
    {
     "data": {
      "text/plain": [
       "'The given number 7 is Prime'"
      ]
     },
     "execution_count": 46,
     "metadata": {},
     "output_type": "execute_result"
    }
   ],
   "source": [
    "check_prime(7)"
   ]
  },
  {
   "cell_type": "code",
   "execution_count": 47,
   "id": "beee30a3",
   "metadata": {},
   "outputs": [
    {
     "data": {
      "text/plain": [
       "'The given number 8 is not Prime'"
      ]
     },
     "execution_count": 47,
     "metadata": {},
     "output_type": "execute_result"
    }
   ],
   "source": [
    "check_prime(8)"
   ]
  },
  {
   "cell_type": "code",
   "execution_count": 48,
   "id": "7fe29f6f",
   "metadata": {},
   "outputs": [
    {
     "data": {
      "text/plain": [
       "'The given number 41 is Prime'"
      ]
     },
     "execution_count": 48,
     "metadata": {},
     "output_type": "execute_result"
    }
   ],
   "source": [
    "check_prime(41)"
   ]
  },
  {
   "cell_type": "markdown",
   "id": "087d0e3c",
   "metadata": {},
   "source": [
    "# 9. Write a Python program to sort a list of integers in ascending order."
   ]
  },
  {
   "cell_type": "code",
   "execution_count": 1,
   "id": "564d4e9a",
   "metadata": {},
   "outputs": [],
   "source": [
    "def partition(lst, p, q):\n",
    "    i = p\n",
    "    pivot = lst[p]\n",
    "    for j in range(p + 1, q):\n",
    "        if lst[j] <= pivot:\n",
    "            i += 1\n",
    "            lst[i], lst[j] = lst[j], lst[i]\n",
    "    lst[i], lst[p] = lst[p], lst[i]\n",
    "    return i\n",
    "\n",
    "def sort(lst, p, q):\n",
    "    if p < q:\n",
    "        mid = partition(lst, p, q)\n",
    "        sort(lst, p, mid)\n",
    "        sort(lst, mid + 1, q)\n",
    "    return lst\n"
   ]
  },
  {
   "cell_type": "code",
   "execution_count": 2,
   "id": "ec255f19",
   "metadata": {},
   "outputs": [
    {
     "data": {
      "text/plain": [
       "[1, 2, 3, 5, 12, 23, 43, 67]"
      ]
     },
     "execution_count": 2,
     "metadata": {},
     "output_type": "execute_result"
    }
   ],
   "source": [
    "lst = [2,3,1,5,67,23,12,43]\n",
    "p = 0\n",
    "q = len(lst)\n",
    "sort(lst,p,q)"
   ]
  },
  {
   "cell_type": "markdown",
   "id": "a8eed53a",
   "metadata": {},
   "source": [
    "# 10. Implement a function to find the sum of all numbers in a list.\n"
   ]
  },
  {
   "cell_type": "code",
   "execution_count": 7,
   "id": "b866051d",
   "metadata": {},
   "outputs": [],
   "source": [
    "def sum_all(lst):\n",
    "    sum = 0 \n",
    "    for i in lst:\n",
    "        sum = sum + i\n",
    "    return f\"Sum of all element in list: {sum}\""
   ]
  },
  {
   "cell_type": "code",
   "execution_count": 8,
   "id": "da482158",
   "metadata": {},
   "outputs": [
    {
     "data": {
      "text/plain": [
       "'Sum of all element in list: 65'"
      ]
     },
     "execution_count": 8,
     "metadata": {},
     "output_type": "execute_result"
    }
   ],
   "source": [
    "sum_all([1,3,4,52,1,4])"
   ]
  },
  {
   "cell_type": "markdown",
   "id": "f30c8f50",
   "metadata": {},
   "source": [
    "# 11. Write a program to find the common elements between two lists."
   ]
  },
  {
   "cell_type": "code",
   "execution_count": 9,
   "id": "6cdb1f5c",
   "metadata": {},
   "outputs": [],
   "source": [
    "def check_common_element(lst1,lst2):\n",
    "    common = []\n",
    "    for i in lst1:\n",
    "        for j in lst2:\n",
    "            if i == j:\n",
    "                common.append(j)\n",
    "    return common"
   ]
  },
  {
   "cell_type": "code",
   "execution_count": 12,
   "id": "8741d69e",
   "metadata": {},
   "outputs": [
    {
     "data": {
      "text/plain": [
       "[1, 3, 4, 7]"
      ]
     },
     "execution_count": 12,
     "metadata": {},
     "output_type": "execute_result"
    }
   ],
   "source": [
    "lst1 = [1,3,4,5,6,7]\n",
    "lst2 = [7,4,3,1,2]\n",
    "check_common_element(lst1, lst2)"
   ]
  },
  {
   "cell_type": "markdown",
   "id": "431ffcda",
   "metadata": {},
   "source": [
    "# 12. Implement a function to check if a given string is an anagram of another string."
   ]
  },
  {
   "cell_type": "code",
   "execution_count": 17,
   "id": "039b0ef5",
   "metadata": {},
   "outputs": [],
   "source": [
    "def is_anagram(string1, string2):\n",
    "    \n",
    "    string1 = string1.replace(\" \", \"\").lower()\n",
    "    string2 = string2.replace(\" \", \"\").lower()\n",
    "\n",
    "    \n",
    "    if len(string1) != len(string2):\n",
    "        return False\n",
    "\n",
    "    \n",
    "    freq1 = {}\n",
    "    freq2 = {}\n",
    "\n",
    "    \n",
    "    for char in string1:\n",
    "        if char in freq1:\n",
    "            freq1[char] += 1\n",
    "        else:\n",
    "            freq1[char] = 1\n",
    "\n",
    "    \n",
    "    for char in string2:\n",
    "        if char in freq2:\n",
    "            freq2[char] += 1\n",
    "        else:\n",
    "            freq2[char] = 1\n",
    "\n",
    "    if freq1 == freq2:\n",
    "        return \"It is Anagram\"\n"
   ]
  },
  {
   "cell_type": "code",
   "execution_count": 18,
   "id": "cf4e9e99",
   "metadata": {},
   "outputs": [
    {
     "data": {
      "text/plain": [
       "'It is Anagram'"
      ]
     },
     "execution_count": 18,
     "metadata": {},
     "output_type": "execute_result"
    }
   ],
   "source": [
    "is_anagram(\"listen\",\"silent\")"
   ]
  },
  {
   "cell_type": "markdown",
   "id": "7fbeb6fb",
   "metadata": {},
   "source": [
    "# 13. Write a Python program to generate all permutations of a given string."
   ]
  },
  {
   "cell_type": "code",
   "execution_count": 19,
   "id": "8c85edf5",
   "metadata": {},
   "outputs": [
    {
     "name": "stdout",
     "output_type": "stream",
     "text": [
      "Enter a string: Hello\n",
      "Permutations:\n",
      "Hello\n",
      "Helol\n",
      "Hello\n",
      "Helol\n",
      "Heoll\n",
      "Heoll\n",
      "Hlelo\n",
      "Hleol\n",
      "Hlleo\n",
      "Hlloe\n",
      "Hloel\n",
      "Hlole\n",
      "Hlelo\n",
      "Hleol\n",
      "Hlleo\n",
      "Hlloe\n",
      "Hloel\n",
      "Hlole\n",
      "Hoell\n",
      "Hoell\n",
      "Holel\n",
      "Holle\n",
      "Holel\n",
      "Holle\n",
      "eHllo\n",
      "eHlol\n",
      "eHllo\n",
      "eHlol\n",
      "eHoll\n",
      "eHoll\n",
      "elHlo\n",
      "elHol\n",
      "ellHo\n",
      "elloH\n",
      "eloHl\n",
      "elolH\n",
      "elHlo\n",
      "elHol\n",
      "ellHo\n",
      "elloH\n",
      "eloHl\n",
      "elolH\n",
      "eoHll\n",
      "eoHll\n",
      "eolHl\n",
      "eollH\n",
      "eolHl\n",
      "eollH\n",
      "lHelo\n",
      "lHeol\n",
      "lHleo\n",
      "lHloe\n",
      "lHoel\n",
      "lHole\n",
      "leHlo\n",
      "leHol\n",
      "lelHo\n",
      "leloH\n",
      "leoHl\n",
      "leolH\n",
      "llHeo\n",
      "llHoe\n",
      "lleHo\n",
      "lleoH\n",
      "lloHe\n",
      "lloeH\n",
      "loHel\n",
      "loHle\n",
      "loeHl\n",
      "loelH\n",
      "lolHe\n",
      "loleH\n",
      "lHelo\n",
      "lHeol\n",
      "lHleo\n",
      "lHloe\n",
      "lHoel\n",
      "lHole\n",
      "leHlo\n",
      "leHol\n",
      "lelHo\n",
      "leloH\n",
      "leoHl\n",
      "leolH\n",
      "llHeo\n",
      "llHoe\n",
      "lleHo\n",
      "lleoH\n",
      "lloHe\n",
      "lloeH\n",
      "loHel\n",
      "loHle\n",
      "loeHl\n",
      "loelH\n",
      "lolHe\n",
      "loleH\n",
      "oHell\n",
      "oHell\n",
      "oHlel\n",
      "oHlle\n",
      "oHlel\n",
      "oHlle\n",
      "oeHll\n",
      "oeHll\n",
      "oelHl\n",
      "oellH\n",
      "oelHl\n",
      "oellH\n",
      "olHel\n",
      "olHle\n",
      "oleHl\n",
      "olelH\n",
      "ollHe\n",
      "olleH\n",
      "olHel\n",
      "olHle\n",
      "oleHl\n",
      "olelH\n",
      "ollHe\n",
      "olleH\n"
     ]
    }
   ],
   "source": [
    "import itertools\n",
    "\n",
    "def generate_permutations(string):\n",
    "   \n",
    "    chars = list(string)\n",
    "    \n",
    "    \n",
    "    permutations = itertools.permutations(chars)\n",
    "    \n",
    "    \n",
    "    return [''.join(permutation) for permutation in permutations]\n",
    "\n",
    "\n",
    "input_string = input(\"Enter a string: \")\n",
    "permutations = generate_permutations(input_string)\n",
    "\n",
    "print(\"Permutations:\")\n",
    "for permutation in permutations:\n",
    "    print(permutation)\n"
   ]
  },
  {
   "cell_type": "markdown",
   "id": "298ceb34",
   "metadata": {},
   "source": [
    "# 14. Implement a function to calculate the Fibonacci sequence up to a given number of terms.\n"
   ]
  },
  {
   "cell_type": "code",
   "execution_count": 20,
   "id": "1cb54269",
   "metadata": {},
   "outputs": [],
   "source": [
    "def fibonacci_sequence(n):\n",
    "    sequence = []\n",
    "    a, b = 0, 1\n",
    "    while len(sequence) < n:\n",
    "        sequence.append(a)\n",
    "        a, b = b, a + b\n",
    "    return sequence\n"
   ]
  },
  {
   "cell_type": "code",
   "execution_count": 21,
   "id": "03da6925",
   "metadata": {},
   "outputs": [
    {
     "data": {
      "text/plain": [
       "[0, 1, 1, 2, 3, 5]"
      ]
     },
     "execution_count": 21,
     "metadata": {},
     "output_type": "execute_result"
    }
   ],
   "source": [
    "fibonacci_sequence(6)"
   ]
  },
  {
   "cell_type": "markdown",
   "id": "b83b3b59",
   "metadata": {},
   "source": [
    "# 15. Write a program to find the median of a list of numbers."
   ]
  },
  {
   "cell_type": "code",
   "execution_count": 22,
   "id": "dc6292b1",
   "metadata": {},
   "outputs": [],
   "source": [
    "def find_median(numbers):\n",
    "    sorted_numbers = sorted(numbers)\n",
    "    length = len(sorted_numbers)\n",
    "    middle_index = length // 2\n",
    "\n",
    "    if length % 2 == 0:\n",
    "        median = (sorted_numbers[middle_index - 1] + sorted_numbers[middle_index]) / 2\n",
    "    else:\n",
    "       \n",
    "        median = sorted_numbers[middle_index]\n",
    "\n",
    "    return median\n",
    "\n",
    "\n"
   ]
  },
  {
   "cell_type": "code",
   "execution_count": 23,
   "id": "817461a1",
   "metadata": {},
   "outputs": [
    {
     "name": "stdout",
     "output_type": "stream",
     "text": [
      "Median: 5\n"
     ]
    }
   ],
   "source": [
    "number_list = [4, 7, 2, 9, 1, 5, 8, 3, 6]\n",
    "result = find_median(number_list)\n",
    "print(\"Median:\", result)\n"
   ]
  },
  {
   "cell_type": "markdown",
   "id": "d78abb28",
   "metadata": {},
   "source": [
    "# 16. Implement a function to check if a given list is sorted in non-decreasing order."
   ]
  },
  {
   "cell_type": "code",
   "execution_count": 25,
   "id": "1d7e1d63",
   "metadata": {},
   "outputs": [],
   "source": [
    "def is_sorted(numbers):\n",
    "    for i in range(len(numbers) - 1):\n",
    "        if numbers[i] > numbers[i + 1]:\n",
    "            return False\n",
    "    return True\n",
    "\n",
    "\n",
    "\n"
   ]
  },
  {
   "cell_type": "code",
   "execution_count": 26,
   "id": "75907610",
   "metadata": {},
   "outputs": [
    {
     "data": {
      "text/plain": [
       "True"
      ]
     },
     "execution_count": 26,
     "metadata": {},
     "output_type": "execute_result"
    }
   ],
   "source": [
    "number_list = [1, 2, 3, 4,5]\n",
    "is_sorted(number_list)"
   ]
  },
  {
   "cell_type": "markdown",
   "id": "ba0f6d54",
   "metadata": {},
   "source": [
    "# 17. Write a Python program to find the intersection of two lists."
   ]
  },
  {
   "cell_type": "code",
   "execution_count": 27,
   "id": "6062595a",
   "metadata": {},
   "outputs": [],
   "source": [
    "def find_intersection(list1, list2):\n",
    "    \n",
    "    set1 = set(list1)\n",
    "    set2 = set(list2)\n",
    "    \n",
    "    intersection = set1.intersection(set2)\n",
    "    \n",
    "   \n",
    "    result = list(intersection)\n",
    "    \n",
    "    return result\n"
   ]
  },
  {
   "cell_type": "code",
   "execution_count": 28,
   "id": "d3cbcf2e",
   "metadata": {},
   "outputs": [
    {
     "data": {
      "text/plain": [
       "[1, 5]"
      ]
     },
     "execution_count": 28,
     "metadata": {},
     "output_type": "execute_result"
    }
   ],
   "source": [
    "find_intersection([1,3,5,6,2,1],[4,5,8,1])"
   ]
  },
  {
   "cell_type": "markdown",
   "id": "ec03fa92",
   "metadata": {},
   "source": [
    "# 18. Implement a function to find the maximum subarray sum in a given list."
   ]
  },
  {
   "cell_type": "code",
   "execution_count": 29,
   "id": "cd792758",
   "metadata": {},
   "outputs": [],
   "source": [
    "def max_subarray_sum(arr):\n",
    "    max_sum = float('-inf') \n",
    "    current_sum = 0 \n",
    "    \n",
    "    for num in arr:\n",
    "        current_sum += num\n",
    "        \n",
    "        if current_sum < 0:\n",
    "            current_sum = 0\n",
    "        \n",
    "        \n",
    "        if current_sum > max_sum:\n",
    "            max_sum = current_sum\n",
    "    \n",
    "    return max_sum\n",
    "\n"
   ]
  },
  {
   "cell_type": "code",
   "execution_count": 30,
   "id": "8ab3c606",
   "metadata": {},
   "outputs": [
    {
     "name": "stdout",
     "output_type": "stream",
     "text": [
      "Maximum subarray sum: 6\n"
     ]
    }
   ],
   "source": [
    "\n",
    "array = [-2, 1, -3, 4, -1, 2, 1, -5, 4]\n",
    "max_sum = max_subarray_sum(array)\n",
    "print(\"Maximum subarray sum:\", max_sum)\n"
   ]
  },
  {
   "cell_type": "markdown",
   "id": "7f2776f9",
   "metadata": {},
   "source": [
    "# 19. Write a program to remove all vowels from a given string.\n"
   ]
  },
  {
   "cell_type": "code",
   "execution_count": 31,
   "id": "3e83f11d",
   "metadata": {},
   "outputs": [],
   "source": [
    "def remove_vowels(string):\n",
    "    vowels = 'aeiouAEIOU'  \n",
    "    result = ''\n",
    "    \n",
    "    for char in string:\n",
    "       \n",
    "        if char not in vowels:\n",
    "            result += char\n",
    "    \n",
    "    return result\n",
    "\n"
   ]
  },
  {
   "cell_type": "code",
   "execution_count": 32,
   "id": "0748f3fd",
   "metadata": {},
   "outputs": [
    {
     "name": "stdout",
     "output_type": "stream",
     "text": [
      "Text without vowels: Hll, Wrld!\n"
     ]
    }
   ],
   "source": [
    "\n",
    "text = \"Hello, World!\"\n",
    "text_without_vowels = remove_vowels(text)\n",
    "print(\"Text without vowels:\", text_without_vowels)\n"
   ]
  },
  {
   "cell_type": "markdown",
   "id": "55e99fcf",
   "metadata": {},
   "source": [
    "# 20. Implement a function to reverse the order of words in a given sentence.\n"
   ]
  },
  {
   "cell_type": "code",
   "execution_count": 33,
   "id": "d01ad9ad",
   "metadata": {},
   "outputs": [],
   "source": [
    "def reverse_sentence(sentence):\n",
    "    \n",
    "    words = sentence.split()\n",
    "\n",
    "    \n",
    "    reversed_words = words[::-1]\n",
    "\n",
    "    \n",
    "    reversed_sentence = ' '.join(reversed_words)\n",
    "\n",
    "    return reversed_sentence\n"
   ]
  },
  {
   "cell_type": "code",
   "execution_count": 35,
   "id": "92e43f4f",
   "metadata": {},
   "outputs": [
    {
     "name": "stdout",
     "output_type": "stream",
     "text": [
      "Reverse sentences:  World! Hello am I Hello,\n"
     ]
    }
   ],
   "source": [
    "result = reverse_sentence(\"Hello, I am Hello World!\")\n",
    "print(\"Reverse sentences: \",result)"
   ]
  },
  {
   "cell_type": "markdown",
   "id": "bebc8219",
   "metadata": {},
   "source": [
    "# 21. Write a Python program to check if two strings are anagrams of each other."
   ]
  },
  {
   "cell_type": "code",
   "execution_count": 37,
   "id": "dc913c82",
   "metadata": {},
   "outputs": [],
   "source": [
    "def is_anagram(string1, string2):\n",
    "    \n",
    "    string1 = string1.replace(\" \", \"\").lower()\n",
    "    string2 = string2.replace(\" \", \"\").lower()\n",
    "\n",
    "    \n",
    "    if len(string1) != len(string2):\n",
    "        return False\n",
    "\n",
    "    \n",
    "    freq1 = {}\n",
    "    freq2 = {}\n",
    "\n",
    "    \n",
    "    for char in string1:\n",
    "        if char in freq1:\n",
    "            freq1[char] += 1\n",
    "        else:\n",
    "            freq1[char] = 1\n",
    "\n",
    "    \n",
    "    for char in string2:\n",
    "        if char in freq2:\n",
    "            freq2[char] += 1\n",
    "        else:\n",
    "            freq2[char] = 1\n",
    "\n",
    "    if freq1 == freq2:\n",
    "        return \"It is Anagram\"\n"
   ]
  },
  {
   "cell_type": "code",
   "execution_count": 38,
   "id": "3e56ebb7",
   "metadata": {},
   "outputs": [
    {
     "data": {
      "text/plain": [
       "'It is Anagram'"
      ]
     },
     "execution_count": 38,
     "metadata": {},
     "output_type": "execute_result"
    }
   ],
   "source": [
    "is_anagram(\"misson\",\"nissom\")"
   ]
  },
  {
   "cell_type": "markdown",
   "id": "9f906079",
   "metadata": {},
   "source": [
    "# 22. Implement a function to find the first non-repeating character in a string."
   ]
  },
  {
   "cell_type": "code",
   "execution_count": 39,
   "id": "741e5309",
   "metadata": {},
   "outputs": [],
   "source": [
    "def find_first_non_repeating_char(string):\n",
    "    char_counts = {}\n",
    "\n",
    "   \n",
    "    for char in string:\n",
    "        if char in char_counts:\n",
    "            char_counts[char] += 1\n",
    "        else:\n",
    "            char_counts[char] = 1\n",
    "\n",
    "    for char in string:\n",
    "        if char_counts[char] == 1:\n",
    "            return char\n",
    "\n",
    "    \n",
    "    return None\n"
   ]
  },
  {
   "cell_type": "code",
   "execution_count": 42,
   "id": "903f6f88",
   "metadata": {},
   "outputs": [
    {
     "data": {
      "text/plain": [
       "'c'"
      ]
     },
     "execution_count": 42,
     "metadata": {},
     "output_type": "execute_result"
    }
   ],
   "source": [
    "find_first_non_repeating_char(\"abracadabra\")"
   ]
  },
  {
   "cell_type": "markdown",
   "id": "02b31879",
   "metadata": {},
   "source": [
    "# 23. Write a program to find the prime factors of a given number."
   ]
  },
  {
   "cell_type": "code",
   "execution_count": 43,
   "id": "b1bfcf8e",
   "metadata": {},
   "outputs": [],
   "source": [
    "def find_prime_factors(number):\n",
    "    factors = []\n",
    "    divisor = 2\n",
    "\n",
    "    while divisor <= number:\n",
    "        if number % divisor == 0:\n",
    "            factors.append(divisor)\n",
    "            number = number / divisor\n",
    "        else:\n",
    "            divisor += 1\n",
    "\n",
    "    return factors\n"
   ]
  },
  {
   "cell_type": "code",
   "execution_count": 44,
   "id": "91c9f268",
   "metadata": {},
   "outputs": [
    {
     "name": "stdout",
     "output_type": "stream",
     "text": [
      "Prime factors of 84 are: [2, 2, 3, 7]\n"
     ]
    }
   ],
   "source": [
    "number = 84\n",
    "prime_factors = find_prime_factors(number)\n",
    "print(\"Prime factors of\", number, \"are:\", prime_factors)\n"
   ]
  },
  {
   "cell_type": "markdown",
   "id": "3a0aeace",
   "metadata": {},
   "source": [
    "# 24. Implement a function to check if a given number is a power of two.\n"
   ]
  },
  {
   "cell_type": "code",
   "execution_count": 46,
   "id": "cc2fe963",
   "metadata": {},
   "outputs": [],
   "source": [
    "def is_power_of_two(number):\n",
    "    if number <= 0:\n",
    "        return False\n",
    "\n",
    "    \n",
    "    return (number & (number - 1)) == 0\n"
   ]
  },
  {
   "cell_type": "code",
   "execution_count": 48,
   "id": "0404a09c",
   "metadata": {},
   "outputs": [
    {
     "data": {
      "text/plain": [
       "True"
      ]
     },
     "execution_count": 48,
     "metadata": {},
     "output_type": "execute_result"
    }
   ],
   "source": [
    "is_power_of_two(4)\n"
   ]
  },
  {
   "cell_type": "markdown",
   "id": "d6d5795b",
   "metadata": {},
   "source": [
    "# 25. Write a Python program to merge two sorted lists into a single sorted list.\n"
   ]
  },
  {
   "cell_type": "code",
   "execution_count": 49,
   "id": "aa1a8582",
   "metadata": {},
   "outputs": [],
   "source": [
    "def merge_sorted_lists(list1, list2):\n",
    "    merged_list = []\n",
    "    i = 0  \n",
    "    j = 0  \n",
    "\n",
    "    \n",
    "    while i < len(list1) and j < len(list2):\n",
    "        if list1[i] <= list2[j]:\n",
    "            merged_list.append(list1[i])\n",
    "            i += 1\n",
    "        else:\n",
    "            merged_list.append(list2[j])\n",
    "            j += 1\n",
    "\n",
    "    \n",
    "    while i < len(list1):\n",
    "        merged_list.append(list1[i])\n",
    "        i += 1\n",
    "\n",
    "    \n",
    "    while j < len(list2):\n",
    "        merged_list.append(list2[j])\n",
    "        j += 1\n",
    "\n",
    "    return merged_list\n",
    "\n",
    "\n",
    "\n"
   ]
  },
  {
   "cell_type": "code",
   "execution_count": 50,
   "id": "d1a9d211",
   "metadata": {},
   "outputs": [
    {
     "data": {
      "text/plain": [
       "[1, 2, 3, 4, 5, 6, 7, 8]"
      ]
     },
     "execution_count": 50,
     "metadata": {},
     "output_type": "execute_result"
    }
   ],
   "source": [
    "list1 = [1, 3, 5, 7]\n",
    "list2 = [2, 4, 6, 8]\n",
    "merge_sorted_lists(list1, list2)"
   ]
  },
  {
   "cell_type": "markdown",
   "id": "faec3286",
   "metadata": {},
   "source": [
    "# 26. Implement a function to find the mode of a list of numbers.\n"
   ]
  },
  {
   "cell_type": "code",
   "execution_count": 51,
   "id": "fda5d5bc",
   "metadata": {},
   "outputs": [
    {
     "name": "stdout",
     "output_type": "stream",
     "text": [
      "Mode: [2]\n"
     ]
    }
   ],
   "source": [
    "from collections import Counter\n",
    "\n",
    "def find_mode(numbers):\n",
    "    \n",
    "    count = Counter(numbers)\n",
    "\n",
    "    \n",
    "    max_count = max(count.values())\n",
    "\n",
    "    \n",
    "    mode = [num for num, freq in count.items() if freq == max_count]\n",
    "\n",
    "    return mode\n",
    "\n",
    "\n",
    "numbers = [1, 2, 3, 2, 4, 3, 2, 5, 4, 2]\n",
    "mode = find_mode(numbers)\n",
    "print(\"Mode:\", mode)\n"
   ]
  },
  {
   "cell_type": "markdown",
   "id": "adb2688c",
   "metadata": {},
   "source": [
    "# 27. Write a program to find the greatest common divisor (GCD) of two numbers."
   ]
  },
  {
   "cell_type": "code",
   "execution_count": 53,
   "id": "bffb05f0",
   "metadata": {},
   "outputs": [
    {
     "name": "stdout",
     "output_type": "stream",
     "text": [
      "GCD of 45 and 60 is: 15\n"
     ]
    }
   ],
   "source": [
    "def find_gcd(a, b):\n",
    "    while b != 0:\n",
    "        a, b = b, a % b\n",
    "    return a\n",
    "\n",
    "\n",
    "num1 = 45\n",
    "num2 = 60\n",
    "gcd = find_gcd(num1, num2)\n",
    "print(\"GCD of\", num1, \"and\", num2, \"is:\", gcd)\n"
   ]
  },
  {
   "cell_type": "markdown",
   "id": "3a27f674",
   "metadata": {},
   "source": [
    "# 28. Implement a function to calculate the square root of a given number.\n"
   ]
  },
  {
   "cell_type": "code",
   "execution_count": 56,
   "id": "ae6828bf",
   "metadata": {},
   "outputs": [
    {
     "name": "stdout",
     "output_type": "stream",
     "text": [
      "Square root of 15 is: 3.872983434898095\n"
     ]
    }
   ],
   "source": [
    "def calculate_square_root(number):\n",
    "    if number < 0:\n",
    "        raise ValueError(\"Square root is not defined for negative numbers.\")\n",
    "\n",
    "    \n",
    "    guess = number / 2\n",
    "\n",
    "    \n",
    "    while abs(guess * guess - number) > 0.0001:\n",
    "        guess = (guess + number / guess) / 2\n",
    "\n",
    "    return guess\n",
    "\n",
    "\n",
    "number = 15\n",
    "square_root = calculate_square_root(number)\n",
    "print(\"Square root of\", number, \"is:\", square_root)\n"
   ]
  },
  {
   "cell_type": "markdown",
   "id": "d3bd7c40",
   "metadata": {},
   "source": [
    "# 29. Write a Python program to check if a given string is a valid palindrome ignoring non-alphanumeric characters."
   ]
  },
  {
   "cell_type": "code",
   "execution_count": 57,
   "id": "b6ec9e61",
   "metadata": {},
   "outputs": [
    {
     "name": "stdout",
     "output_type": "stream",
     "text": [
      "The string 'A man, a plan, a canal: Panama' is a valid palindrome.\n"
     ]
    }
   ],
   "source": [
    "import re\n",
    "\n",
    "def is_valid_palindrome(string):\n",
    "    \n",
    "    alphanumeric_string = re.sub(r'[^a-zA-Z0-9]', '', string.lower())\n",
    "\n",
    "    return alphanumeric_string == alphanumeric_string[::-1]\n",
    "\n",
    "string = \"A man, a plan, a canal: Panama\"\n",
    "if is_valid_palindrome(string):\n",
    "    print(f\"The string '{string}' is a valid palindrome.\")\n",
    "else:\n",
    "    print(f\"The string '{string}' is not a valid palindrome.\")\n"
   ]
  },
  {
   "cell_type": "markdown",
   "id": "11ea409b",
   "metadata": {},
   "source": [
    "# 30. Implement a function to find the minimum element in a rotated sorted list."
   ]
  },
  {
   "cell_type": "code",
   "execution_count": 58,
   "id": "d8e0f2ee",
   "metadata": {},
   "outputs": [],
   "source": [
    "def find_minimum(rotated_list):\n",
    "    left = 0\n",
    "    right = len(rotated_list) - 1\n",
    "\n",
    "   \n",
    "    if rotated_list[left] <= rotated_list[right]:\n",
    "        return rotated_list[left]\n",
    "\n",
    "   \n",
    "    while left < right:\n",
    "        mid = left + (right - left) // 2\n",
    "\n",
    "        if rotated_list[mid] > rotated_list[right]:\n",
    "            left = mid + 1\n",
    "        else:\n",
    "            right = mid\n",
    "\n",
    "    return rotated_list[left]\n"
   ]
  },
  {
   "cell_type": "code",
   "execution_count": 59,
   "id": "617fe748",
   "metadata": {},
   "outputs": [
    {
     "name": "stdout",
     "output_type": "stream",
     "text": [
      "Minimum element in the list: 1\n"
     ]
    }
   ],
   "source": [
    "lst = [7, 8, 9, 1, 2, 3, 4, 5, 6]\n",
    "minimum = find_minimum(lst)\n",
    "print(\"Minimum element in the list:\", minimum)\n"
   ]
  },
  {
   "cell_type": "markdown",
   "id": "8afa2f01",
   "metadata": {},
   "source": [
    "# 31. Write a program to find the sum of all even numbers in a list."
   ]
  },
  {
   "cell_type": "code",
   "execution_count": 60,
   "id": "a17ae2d4",
   "metadata": {},
   "outputs": [],
   "source": [
    "def find_sum_even(lst):\n",
    "    sum_even = 0\n",
    "    for i in lst:\n",
    "        if i%2 == 0:\n",
    "            sum_even = sum_even + i\n",
    "    return f\"Sum of Even: {sum_even}\""
   ]
  },
  {
   "cell_type": "code",
   "execution_count": 61,
   "id": "8038dbe9",
   "metadata": {},
   "outputs": [
    {
     "data": {
      "text/plain": [
       "'Sum of Even: 14'"
      ]
     },
     "execution_count": 61,
     "metadata": {},
     "output_type": "execute_result"
    }
   ],
   "source": [
    "find_sum_even([3,4,2,7,8])"
   ]
  },
  {
   "cell_type": "markdown",
   "id": "bcedac9c",
   "metadata": {},
   "source": [
    "# 32. Implement a function to calculate the power of a number using recursion.\n"
   ]
  },
  {
   "cell_type": "code",
   "execution_count": 1,
   "id": "ead79830",
   "metadata": {},
   "outputs": [],
   "source": [
    "def power(base, exponent):\n",
    "    if exponent == 0:\n",
    "        return 1\n",
    "    elif exponent < 0:\n",
    "        return 1 / power(base, -exponent)\n",
    "    else:\n",
    "        return base * power(base, exponent - 1)\n"
   ]
  },
  {
   "cell_type": "code",
   "execution_count": 2,
   "id": "a5620c11",
   "metadata": {},
   "outputs": [
    {
     "data": {
      "text/plain": [
       "2187"
      ]
     },
     "execution_count": 2,
     "metadata": {},
     "output_type": "execute_result"
    }
   ],
   "source": [
    "power(3,7)"
   ]
  },
  {
   "cell_type": "markdown",
   "id": "54cbba63",
   "metadata": {},
   "source": [
    "# 33. Write a Python program to remove duplicates from a list while preserving the order.\n"
   ]
  },
  {
   "cell_type": "code",
   "execution_count": 4,
   "id": "8e3e7148",
   "metadata": {},
   "outputs": [],
   "source": [
    "def remove_duplicates(input_list):\n",
    "    unique_list = []\n",
    "    for item in input_list:\n",
    "        if item not in unique_list:\n",
    "            unique_list.append(item)\n",
    "    return unique_list\n",
    "\n",
    "\n"
   ]
  },
  {
   "cell_type": "code",
   "execution_count": 5,
   "id": "4fa62375",
   "metadata": {},
   "outputs": [
    {
     "name": "stdout",
     "output_type": "stream",
     "text": [
      "[1, 2, 3, 4, 5, 6]\n"
     ]
    }
   ],
   "source": [
    "my_list = [1, 2, 3, 2, 4, 1, 5, 6, 5]\n",
    "result = remove_duplicates(my_list)\n",
    "print(result)\n"
   ]
  },
  {
   "cell_type": "markdown",
   "id": "e9fd2651",
   "metadata": {},
   "source": [
    "# 34. Implement a function to find the longest common prefix among a list of strings."
   ]
  },
  {
   "cell_type": "code",
   "execution_count": 6,
   "id": "4b587b2e",
   "metadata": {},
   "outputs": [],
   "source": [
    "def longest_common_prefix(strs):\n",
    "    if not strs:\n",
    "        return \"\"\n",
    "\n",
    "    \n",
    "    min_len = min(len(s) for s in strs)\n",
    "\n",
    "    \n",
    "    for i in range(min_len):\n",
    "        char = strs[0][i]  \n",
    "        if any(s[i] != char for s in strs[1:]):\n",
    "            return strs[0][:i] \n",
    "\n",
    "    return strs[0][:min_len]  \n",
    "\n"
   ]
  },
  {
   "cell_type": "code",
   "execution_count": 7,
   "id": "b75593fe",
   "metadata": {},
   "outputs": [
    {
     "name": "stdout",
     "output_type": "stream",
     "text": [
      "fl\n"
     ]
    }
   ],
   "source": [
    "words = [\"flower\", \"flow\", \"flight\"]\n",
    "result = longest_common_prefix(words)\n",
    "print(result)"
   ]
  },
  {
   "cell_type": "markdown",
   "id": "945cebdb",
   "metadata": {},
   "source": [
    "# 35. Write a program to check if a given number is a perfect square."
   ]
  },
  {
   "cell_type": "code",
   "execution_count": 8,
   "id": "5122e7f1",
   "metadata": {},
   "outputs": [],
   "source": [
    "def is_perfect_square(num):\n",
    "    if num < 0:\n",
    "        return False\n",
    "    elif num == 0:\n",
    "        return True\n",
    "\n",
    "  \n",
    "    i = 1\n",
    "    while i * i <= num:\n",
    "        if i * i == num:\n",
    "            return True\n",
    "        i += 1\n",
    "\n",
    "    return False\n"
   ]
  },
  {
   "cell_type": "code",
   "execution_count": 9,
   "id": "f5c26bb4",
   "metadata": {},
   "outputs": [
    {
     "name": "stdout",
     "output_type": "stream",
     "text": [
      "True\n"
     ]
    }
   ],
   "source": [
    "\n",
    "\n",
    "number = 225\n",
    "result = is_perfect_square(number)\n",
    "print(result)\n"
   ]
  },
  {
   "cell_type": "markdown",
   "id": "2c56ad47",
   "metadata": {},
   "source": [
    "# 36. Implement a function to calculate the product of all elements in a list.\n"
   ]
  },
  {
   "cell_type": "code",
   "execution_count": 10,
   "id": "8d391072",
   "metadata": {},
   "outputs": [],
   "source": [
    "def calculate_product(lst):\n",
    "    product = 1\n",
    "    for num in lst:\n",
    "        product *= num\n",
    "    return product\n",
    "\n"
   ]
  },
  {
   "cell_type": "code",
   "execution_count": 11,
   "id": "7acc5b01",
   "metadata": {},
   "outputs": [
    {
     "name": "stdout",
     "output_type": "stream",
     "text": [
      "420\n"
     ]
    }
   ],
   "source": [
    "\n",
    "numbers = [7, 3, 4, 5]\n",
    "result = calculate_product(numbers)\n",
    "print(result)"
   ]
  },
  {
   "cell_type": "markdown",
   "id": "58e3c2c0",
   "metadata": {},
   "source": [
    "# 37. Write a Python program to reverse the order of words in a sentence while preserving the word order.\n"
   ]
  },
  {
   "cell_type": "code",
   "execution_count": 3,
   "id": "95a9043b",
   "metadata": {},
   "outputs": [],
   "source": [
    "def reverse_sentence(sentence):\n",
    "    words = sentence.split()\n",
    "    reversed_sentence = ' '.join(word[::-1] for word in words)\n",
    "    return reversed_sentence\n",
    "\n"
   ]
  },
  {
   "cell_type": "code",
   "execution_count": 4,
   "id": "d83b49c1",
   "metadata": {},
   "outputs": [
    {
     "name": "stdout",
     "output_type": "stream",
     "text": [
      ",olleH woh era uoy ?yadot\n"
     ]
    }
   ],
   "source": [
    "input_sentence = \"Hello, how are you today?\"\n",
    "result = reverse_sentence(input_sentence)\n",
    "print(result)"
   ]
  },
  {
   "cell_type": "markdown",
   "id": "c6b30f95",
   "metadata": {},
   "source": [
    "# 38. Implement a function to find the missing number in a given list of consecutive numbers.\n"
   ]
  },
  {
   "cell_type": "code",
   "execution_count": 5,
   "id": "eadf7af1",
   "metadata": {},
   "outputs": [],
   "source": [
    "def find_missing_number(numbers):\n",
    "    n = len(numbers) + 1  \n",
    "    expected_sum = (n * (n + 1)) // 2 \n",
    "    actual_sum = sum(numbers)  \n",
    "    missing_number = expected_sum - actual_sum\n",
    "    return missing_number\n"
   ]
  },
  {
   "cell_type": "code",
   "execution_count": 7,
   "id": "ed1ebbf6",
   "metadata": {},
   "outputs": [
    {
     "name": "stdout",
     "output_type": "stream",
     "text": [
      "5\n"
     ]
    }
   ],
   "source": [
    "sequence = [1, 2, 3, 4, 6, 7, 8]\n",
    "result = find_missing_number(sequence)\n",
    "print(result)"
   ]
  },
  {
   "cell_type": "markdown",
   "id": "1aa268b4",
   "metadata": {},
   "source": [
    "# 39. Write a program to find the sum of digits of a given number.\n"
   ]
  },
  {
   "cell_type": "code",
   "execution_count": 8,
   "id": "131c899a",
   "metadata": {},
   "outputs": [],
   "source": [
    "def sum_of_digits(number):\n",
    "    \n",
    "    num_str = str(number)\n",
    "\n",
    "    \n",
    "    digit_sum = 0\n",
    "\n",
    "    \n",
    "    for digit in num_str:\n",
    "        \n",
    "        digit_sum += int(digit)\n",
    "\n",
    "    return digit_sum\n",
    "\n",
    "\n",
    "\n"
   ]
  },
  {
   "cell_type": "code",
   "execution_count": 10,
   "id": "bf3d0375",
   "metadata": {},
   "outputs": [
    {
     "name": "stdout",
     "output_type": "stream",
     "text": [
      "22\n"
     ]
    }
   ],
   "source": [
    "num = 123457\n",
    "result = sum_of_digits(num)\n",
    "print(result)"
   ]
  },
  {
   "cell_type": "markdown",
   "id": "5a1ab466",
   "metadata": {},
   "source": [
    "# 40. Implement a function to check if a given string is a valid palindrome considering case sensitivity.\n"
   ]
  },
  {
   "cell_type": "code",
   "execution_count": 11,
   "id": "e18fe147",
   "metadata": {},
   "outputs": [],
   "source": [
    "def is_palindrome(s):\n",
    "    return s == s[::-1]\n",
    "\n",
    "\n"
   ]
  },
  {
   "cell_type": "code",
   "execution_count": 12,
   "id": "d7ffe126",
   "metadata": {},
   "outputs": [
    {
     "name": "stdout",
     "output_type": "stream",
     "text": [
      "False\n"
     ]
    }
   ],
   "source": [
    "word = \"Madam\"\n",
    "result = is_palindrome(word)\n",
    "print(result)\n"
   ]
  },
  {
   "cell_type": "markdown",
   "id": "edba40f8",
   "metadata": {},
   "source": [
    "# 41. Write a Python program to find the smallest missing positive integer in a list."
   ]
  },
  {
   "cell_type": "code",
   "execution_count": 13,
   "id": "11538927",
   "metadata": {},
   "outputs": [],
   "source": [
    "def find_smallest_missing_positive_integer(nums):\n",
    "    \n",
    "    positive_nums = set(nums)\n",
    "\n",
    "     \n",
    "    smallest_missing = 1\n",
    "    while smallest_missing in positive_nums:\n",
    "        smallest_missing += 1\n",
    "\n",
    "    return smallest_missing\n",
    "\n",
    "\n"
   ]
  },
  {
   "cell_type": "code",
   "execution_count": 14,
   "id": "a89a2aa9",
   "metadata": {},
   "outputs": [
    {
     "name": "stdout",
     "output_type": "stream",
     "text": [
      "2\n"
     ]
    }
   ],
   "source": [
    "numbers = [3, 1, -1, 5, 4]\n",
    "result = find_smallest_missing_positive_integer(numbers)\n",
    "print(result)"
   ]
  },
  {
   "cell_type": "markdown",
   "id": "5240ebcf",
   "metadata": {},
   "source": [
    "# 42. Implement a function to find the longest palindrome substring in a given string.\n"
   ]
  },
  {
   "cell_type": "code",
   "execution_count": 16,
   "id": "5de87f9b",
   "metadata": {},
   "outputs": [
    {
     "name": "stdout",
     "output_type": "stream",
     "text": [
      "aba\n"
     ]
    }
   ],
   "source": [
    "def longest_palindrome(s):\n",
    "    if len(s) < 2:\n",
    "        return s\n",
    "\n",
    "    start = 0\n",
    "    end = 0\n",
    "\n",
    "    for i in range(len(s)):\n",
    "        len1 = expand_around_center(s, i, i)\n",
    "        len2 = expand_around_center(s, i, i + 1)\n",
    "        length = max(len1, len2)\n",
    "\n",
    "        if length > end - start:\n",
    "            start = i - (length - 1) // 2\n",
    "            end = i + length // 2\n",
    "\n",
    "    return s[start:end + 1]\n",
    "\n",
    "def expand_around_center(s, left, right):\n",
    "    while left >= 0 and right < len(s) and s[left] == s[right]:\n",
    "        left -= 1\n",
    "        right += 1\n",
    "\n",
    "    return right - left - 1\n",
    "\n",
    "\n",
    "string = \"babad\"\n",
    "result = longest_palindrome(string)\n",
    "print(result)\n"
   ]
  },
  {
   "cell_type": "markdown",
   "id": "c23108f7",
   "metadata": {},
   "source": [
    "# 43. Write a program to find the number of occurrences of a given element in a list.\n"
   ]
  },
  {
   "cell_type": "code",
   "execution_count": 18,
   "id": "b62a900c",
   "metadata": {},
   "outputs": [],
   "source": [
    "def count_occurrences(lst, element):\n",
    "    count = 0\n",
    "    for item in lst:\n",
    "        if item == element:\n",
    "            count += 1\n",
    "    return count\n",
    "\n",
    "\n"
   ]
  },
  {
   "cell_type": "code",
   "execution_count": 19,
   "id": "cb6b4307",
   "metadata": {},
   "outputs": [
    {
     "name": "stdout",
     "output_type": "stream",
     "text": [
      "2\n"
     ]
    }
   ],
   "source": [
    "\n",
    "my_list = [1, 2, 3, 2, 4, 1, 5, 6, 5]\n",
    "target_element = 2\n",
    "result = count_occurrences(my_list, target_element)\n",
    "print(result)"
   ]
  },
  {
   "cell_type": "markdown",
   "id": "ac0f2991",
   "metadata": {},
   "source": [
    "# 44. Implement a function to check if a given number is a perfect number.\n"
   ]
  },
  {
   "cell_type": "code",
   "execution_count": 20,
   "id": "8c91bd5a",
   "metadata": {},
   "outputs": [],
   "source": [
    "def is_perfect_number(number):\n",
    "    if number <= 0:\n",
    "        return False\n",
    "\n",
    "    divisors_sum = sum(i for i in range(1, number) if number % i == 0)\n",
    "    return divisors_sum == number\n"
   ]
  },
  {
   "cell_type": "code",
   "execution_count": 21,
   "id": "453b16e5",
   "metadata": {},
   "outputs": [
    {
     "name": "stdout",
     "output_type": "stream",
     "text": [
      "False\n"
     ]
    }
   ],
   "source": [
    "\n",
    "num = 18\n",
    "result = is_perfect_number(num)\n",
    "print(result)\n"
   ]
  },
  {
   "cell_type": "code",
   "execution_count": 22,
   "id": "8597d78d",
   "metadata": {},
   "outputs": [
    {
     "name": "stdout",
     "output_type": "stream",
     "text": [
      "True\n"
     ]
    }
   ],
   "source": [
    "\n",
    "\n",
    "num = 28\n",
    "result = is_perfect_number(num)\n",
    "print(result)\n"
   ]
  },
  {
   "cell_type": "markdown",
   "id": "d9fe88b7",
   "metadata": {},
   "source": [
    "# 45. Write a Python program to remove all duplicates from a string"
   ]
  },
  {
   "cell_type": "code",
   "execution_count": 23,
   "id": "a7121218",
   "metadata": {},
   "outputs": [],
   "source": [
    "def remove_duplicates(string):\n",
    "    unique_chars = set(string)\n",
    "    result = ''.join(unique_chars)\n",
    "    return result\n",
    "\n",
    "\n"
   ]
  },
  {
   "cell_type": "code",
   "execution_count": 24,
   "id": "ecc0588e",
   "metadata": {},
   "outputs": [
    {
     "name": "stdout",
     "output_type": "stream",
     "text": [
      "laweoyutHdhr, ?\n"
     ]
    }
   ],
   "source": [
    "\n",
    "input_string = \"Hello, how are you today?\"\n",
    "result = remove_duplicates(input_string)\n",
    "print(result)"
   ]
  },
  {
   "cell_type": "markdown",
   "id": "9a984af2",
   "metadata": {},
   "source": [
    "# 46. Implement a function to find the first missing positive"
   ]
  },
  {
   "cell_type": "code",
   "execution_count": 25,
   "id": "af222709",
   "metadata": {},
   "outputs": [],
   "source": [
    "def find_first_missing_positive(nums):\n",
    "    n = len(nums)\n",
    "\n",
    "    \n",
    "    for i in range(n):\n",
    "        \n",
    "        while 1 <= nums[i] <= n and nums[i] != nums[nums[i] - 1]:\n",
    "            \n",
    "            nums[nums[i] - 1], nums[i] = nums[i], nums[nums[i] - 1]\n",
    "\n",
    "    \n",
    "    for i in range(n):\n",
    "        if nums[i] != i + 1:\n",
    "            return i + 1\n",
    "\n",
    "    \n",
    "    return n + 1\n",
    "\n",
    "\n"
   ]
  },
  {
   "cell_type": "code",
   "execution_count": 26,
   "id": "54c0a11e",
   "metadata": {},
   "outputs": [
    {
     "name": "stdout",
     "output_type": "stream",
     "text": [
      "2\n"
     ]
    }
   ],
   "source": [
    "numbers = [3, 4, -1, 1]\n",
    "result = find_first_missing_positive(numbers)\n",
    "print(result)"
   ]
  },
  {
   "cell_type": "code",
   "execution_count": null,
   "id": "e901a082",
   "metadata": {},
   "outputs": [],
   "source": []
  }
 ],
 "metadata": {
  "kernelspec": {
   "display_name": "Python 3 (ipykernel)",
   "language": "python",
   "name": "python3"
  },
  "language_info": {
   "codemirror_mode": {
    "name": "ipython",
    "version": 3
   },
   "file_extension": ".py",
   "mimetype": "text/x-python",
   "name": "python",
   "nbconvert_exporter": "python",
   "pygments_lexer": "ipython3",
   "version": "3.9.13"
  }
 },
 "nbformat": 4,
 "nbformat_minor": 5
}
